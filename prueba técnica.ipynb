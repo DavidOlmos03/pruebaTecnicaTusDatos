{
 "cells": [
  {
   "cell_type": "code",
   "execution_count": 1,
   "id": "f47ae583",
   "metadata": {},
   "outputs": [
    {
     "name": "stdout",
     "output_type": "stream",
     "text": [
      "Requirement already satisfied: pymongo in c:\\users\\juand\\anaconda3\\lib\\site-packages (4.7.3)\n",
      "Requirement already satisfied: dnspython<3.0.0,>=1.16.0 in c:\\users\\juand\\anaconda3\\lib\\site-packages (from pymongo) (2.6.1)\n"
     ]
    }
   ],
   "source": [
    "# Importaciones e instalaciones necesarias\n",
    "from selenium import webdriver\n",
    "import random \n",
    "from time import sleep\n",
    "from selenium.webdriver.common.by import By\n",
    "from selenium.webdriver.support import expected_conditions as EC\n",
    "from selenium.webdriver.support.ui import WebDriverWait\n",
    "from selenium.webdriver.chrome.options import Options\n",
    "from selenium.webdriver.chrome.service import Service\n",
    "from webdriver_manager.chrome import ChromeDriverManager # pip install webdriver-manager\n",
    "\n",
    "# Para trabajar con mongodb\n",
    "!pip install pymongo\n",
    "from pymongo import MongoClient\n",
    "client = MongoClient('localhost')\n",
    "db = client['pruebaTusDatos']\n",
    "col = db['procesos']"
   ]
  },
  {
   "cell_type": "code",
   "execution_count": 2,
   "id": "9bff3e0e",
   "metadata": {},
   "outputs": [
    {
     "name": "stdout",
     "output_type": "stream",
     "text": [
      "Desea ingresar código para: \n",
      "1. Demandante\n",
      "2. Demandado\n",
      "1\n",
      "Ingrese el número de identificación: 0968599020001\n"
     ]
    }
   ],
   "source": [
    "opts = Options()\n",
    "opts.add_argument(\"user-agent=Mozilla/5.0 (Macintosh; Intel Mac OS X 10_15_7) AppleWebKit/537.36 (KHTML, like Gecko) Chrome/113.0.0.0 Safari/537.36\")\n",
    "\n",
    "# Conexión con la página web a \"scrapear\"\n",
    "driver = webdriver.Chrome(service = Service(ChromeDriverManager().install()), options=opts)\n",
    "driver.get('https://procesosjudiciales.funcionjudicial.gob.ec/busqueda-filtros')\n",
    "\n",
    "# Se establece el tipo de proceso a realizar\n",
    "type_process = int(input(\"Desea ingresar código para: \\n\"+\n",
    "                   \"1. Demandante\\n\"+\n",
    "                   \"2. Demandado\\n\"))\n",
    "# Código del demandante o demandado\n",
    "# Demandante1 = 0968599020001\n",
    "# Demandante2 = 0992339411001\n",
    "\n",
    "# Demandado1 = 1791251237001\n",
    "# Demandado2 = 0968599020001\n",
    "codigo = input(\"Ingrese el número de identificación: \")\n",
    "\n"
   ]
  },
  {
   "cell_type": "code",
   "execution_count": 3,
   "id": "cb5f721b",
   "metadata": {},
   "outputs": [],
   "source": [
    "# Me doy cuenta que la pagina carga el formulario dinamicamente luego de que la carga incial ha sido completada\n",
    "# Por eso tengo que esperar que aparezca \n",
    "if type_process == 1:\n",
    "    input_user = WebDriverWait(driver, 10).until(EC.presence_of_element_located((By.XPATH, \"//input[@formcontrolname = 'cedulaActor']\")))\n",
    "    input_user.send_keys(codigo)\n",
    "elif type_process == 2:\n",
    "    input_user = WebDriverWait(driver, 10).until(EC.presence_of_element_located((By.XPATH, \"//input[@formcontrolname = 'cedulaDemandado']\")))\n",
    "    input_user.send_keys(codigo)\n",
    "\n",
    "\n",
    "# Click al boton buscar\n",
    "boton_buscar = driver.find_element(By.XPATH,\"//button[@type = 'submit']\")\n",
    "boton_buscar.click()\n"
   ]
  },
  {
   "cell_type": "code",
   "execution_count": 4,
   "id": "b6393e9a",
   "metadata": {},
   "outputs": [],
   "source": [
    "def enviar_proceso(listado_proceso):\n",
    "    for proceso in listado_proceso:\n",
    "        id_proceso = proceso.find_element('xpath','.//div[@class=\"id\"]').text\n",
    "        fecha = proceso.find_element('xpath','.//div[@class=\"fecha\"]').text\n",
    "        numero_proceso = proceso.find_element('xpath','.//div[@class=\"numero-proceso\"]').text\n",
    "        accion_infraccion = proceso.find_element('xpath','.//div[@class=\"accion-infraccion\"]').text\n",
    "\n",
    "        # Se envia la información obtenida a la base de datos\n",
    "        col.insert_one({\n",
    "            'id':id_proceso,\n",
    "            'fecha': fecha,\n",
    "            'numero_proceso': numero_proceso,\n",
    "            'accion_infraccion': accion_infraccion\n",
    "        })"
   ]
  },
  {
   "cell_type": "code",
   "execution_count": 12,
   "id": "7bd05592",
   "metadata": {},
   "outputs": [],
   "source": [
    "# Se obtiene el número limite para realizar los cambios de página\n",
    "page_label = driver.find_element(By.XPATH, \"//div[@class = 'mat-mdc-paginator-range-label']\")\n",
    "text = page_label.text\n",
    "\n",
    "# Se utiliza la funcion split para obtener un array por palabra del texto obtenido y luego se obtiene el ultimo registro\n",
    "parts = text.split()\n",
    "limit = int(parts[len(parts) - 1])"
   ]
  },
  {
   "cell_type": "code",
   "execution_count": 13,
   "id": "6d1b6cd7",
   "metadata": {},
   "outputs": [],
   "source": [
    "# Obtengo el listado de procesos esperando antes 10 segundos para dar tiempo de que se carguen por completo\n",
    "listado_procesos = WebDriverWait(driver, 10).until(EC.presence_of_all_elements_located((By.XPATH,\"//div[@class = 'causa-individual ng-star-inserted']\")))\n",
    "enviar_proceso(listado_procesos)\n",
    "\n",
    "# Se obtiene el boton de paso\n",
    "boton_paso = driver.find_element(By.XPATH,\"//button[@aria-label='Página siguiente']\")\n",
    "                                                           \n",
    "# Se recorren todas las vistas de los registros\n",
    "for i in range(limit-1):\n",
    "    try:\n",
    "        # click al boton de paso\n",
    "        boton_paso.click()\n",
    "        # Espero a que se cargue la nueva página\n",
    "        sleep(random.uniform(8.0,10.0))\n",
    "        # Obtengo el listado de procesos esperando antes 10 segundos para dar tiempo de que se carguen por completo\n",
    "        listado_procesos = WebDriverWait(driver, 10).until(EC.presence_of_all_elements_located((By.XPATH,\"//div[@class = 'causa-individual ng-star-inserted']\")))\n",
    "\n",
    "        enviar_proceso(listado_procesos)\n",
    "        # Espero a que se cargue la nueva página\n",
    "        sleep(random.uniform(8.0,10.0))\n",
    "        # Se obtiene el boton de paso\n",
    "        boton_paso = driver.find_element(By.XPATH,\"//button[@aria-label='Página siguiente']\")\n",
    "    except:\n",
    "        break"
   ]
  },
  {
   "cell_type": "code",
   "execution_count": 25,
   "id": "fa87838d",
   "metadata": {},
   "outputs": [],
   "source": []
  },
  {
   "cell_type": "code",
   "execution_count": 26,
   "id": "00caa958",
   "metadata": {},
   "outputs": [],
   "source": []
  },
  {
   "cell_type": "code",
   "execution_count": 27,
   "id": "5bbd6237",
   "metadata": {},
   "outputs": [
    {
     "name": "stdout",
     "output_type": "stream",
     "text": [
      "15\n"
     ]
    }
   ],
   "source": [
    "print(second_15)"
   ]
  },
  {
   "cell_type": "code",
   "execution_count": null,
   "id": "df2ef646",
   "metadata": {},
   "outputs": [],
   "source": []
  }
 ],
 "metadata": {
  "kernelspec": {
   "display_name": "Python 3 (ipykernel)",
   "language": "python",
   "name": "python3"
  },
  "language_info": {
   "codemirror_mode": {
    "name": "ipython",
    "version": 3
   },
   "file_extension": ".py",
   "mimetype": "text/x-python",
   "name": "python",
   "nbconvert_exporter": "python",
   "pygments_lexer": "ipython3",
   "version": "3.11.5"
  }
 },
 "nbformat": 4,
 "nbformat_minor": 5
}
