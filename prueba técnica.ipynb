{
 "cells": [
  {
   "cell_type": "code",
   "execution_count": 44,
   "id": "70ce984b",
   "metadata": {},
   "outputs": [
    {
     "name": "stdout",
     "output_type": "stream",
     "text": [
      "Requirement already satisfied: pymongo in c:\\users\\juand\\anaconda3\\lib\\site-packages (4.7.3)\n",
      "Requirement already satisfied: dnspython<3.0.0,>=1.16.0 in c:\\users\\juand\\anaconda3\\lib\\site-packages (from pymongo) (2.6.1)\n"
     ]
    }
   ],
   "source": [
    "# Importaciones e instalaciones necesarias\n",
    "from selenium import webdriver\n",
    "import random \n",
    "from time import sleep\n",
    "from selenium.webdriver.common.by import By\n",
    "from selenium.webdriver.support import expected_conditions as EC\n",
    "from selenium.webdriver.support.ui import WebDriverWait\n",
    "from selenium.webdriver.chrome.options import Options\n",
    "from selenium.webdriver.chrome.service import Service\n",
    "from webdriver_manager.chrome import ChromeDriverManager # pip install webdriver-manager\n",
    "from selenium.common.exceptions import TimeoutException, StaleElementReferenceException\n",
    "\n",
    "# Para trabajar con mongodb\n",
    "!pip install pymongo\n",
    "from pymongo import MongoClient\n",
    "client = MongoClient('localhost')\n",
    "db = client['pruebaTusDatos']\n",
    "col = db['procesos']\n",
    "detalles = db['detalles']"
   ]
  },
  {
   "cell_type": "code",
   "execution_count": 2,
   "id": "4713a537",
   "metadata": {},
   "outputs": [
    {
     "name": "stdout",
     "output_type": "stream",
     "text": [
      "Desea ingresar código para: \n",
      "1. Demandante\n",
      "2. Demandado\n",
      "1\n",
      "Ingrese el número de identificación: 0968599020001\n"
     ]
    }
   ],
   "source": [
    "opts = Options()\n",
    "opts.add_argument(\"user-agent=Mozilla/5.0 (Macintosh; Intel Mac OS X 10_15_7) AppleWebKit/537.36 (KHTML, like Gecko) Chrome/113.0.0.0 Safari/537.36\")\n",
    "\n",
    "# Conexión con la página web a \"scrapear\"\n",
    "driver = webdriver.Chrome(service = Service(ChromeDriverManager().install()), options=opts)\n",
    "driver.get('https://procesosjudiciales.funcionjudicial.gob.ec/busqueda-filtros')\n",
    "\n",
    "# Se establece el tipo de proceso a realizar\n",
    "type_process = int(input(\"Desea ingresar código para: \\n\"+\n",
    "                   \"1. Demandante\\n\"+\n",
    "                   \"2. Demandado\\n\"))\n",
    "# Código del demandante o demandado\n",
    "# Demandante1 = 0968599020001\n",
    "# Demandante2 = 0992339411001\n",
    "\n",
    "# Demandado1 = 1791251237001\n",
    "# Demandado2 = 0968599020001\n",
    "codigo = input(\"Ingrese el número de identificación: \")\n",
    "\n"
   ]
  },
  {
   "cell_type": "code",
   "execution_count": 3,
   "id": "28f3e251",
   "metadata": {},
   "outputs": [],
   "source": [
    "# Me doy cuenta que la pagina carga el formulario dinamicamente luego de que la carga incial ha sido completada\n",
    "# Por eso tengo que esperar que aparezca \n",
    "if type_process == 1:\n",
    "    input_user = WebDriverWait(driver, 10).until(EC.presence_of_element_located((By.XPATH, \"//input[@formcontrolname = 'cedulaActor']\")))\n",
    "    input_user.send_keys(codigo)\n",
    "elif type_process == 2:\n",
    "    input_user = WebDriverWait(driver, 10).until(EC.presence_of_element_located((By.XPATH, \"//input[@formcontrolname = 'cedulaDemandado']\")))\n",
    "    input_user.send_keys(codigo)\n",
    "\n",
    "\n",
    "# Click al boton buscar\n",
    "boton_buscar = driver.find_element(By.XPATH,\"//button[@type = 'submit']\")\n",
    "boton_buscar.click()\n"
   ]
  },
  {
   "cell_type": "markdown",
   "id": "d7085c99",
   "metadata": {},
   "source": [
    "# Trabajo con PROCESO"
   ]
  },
  {
   "cell_type": "markdown",
   "id": "85454f8f",
   "metadata": {},
   "source": [
    "### Función para enviar un proceso a la base de datos"
   ]
  },
  {
   "cell_type": "code",
   "execution_count": 4,
   "id": "2641a60b",
   "metadata": {},
   "outputs": [],
   "source": [
    "def enviar_proceso(listado_proceso):\n",
    "    for proceso in listado_proceso:\n",
    "        id_proceso = proceso.find_element('xpath','.//div[@class=\"id\"]').text\n",
    "        fecha = proceso.find_element('xpath','.//div[@class=\"fecha\"]').text\n",
    "        numero_proceso = proceso.find_element('xpath','.//div[@class=\"numero-proceso\"]').text\n",
    "        accion_infraccion = proceso.find_element('xpath','.//div[@class=\"accion-infraccion\"]').text\n",
    "        \n",
    "        # Se envia la información obtenida a la base de datos\n",
    "        col.insert_one({\n",
    "            'id':id_proceso,\n",
    "            'fecha': fecha,\n",
    "            'numero_proceso': numero_proceso,\n",
    "            'accion_infraccion': accion_infraccion\n",
    "        })"
   ]
  },
  {
   "cell_type": "markdown",
   "id": "329d2861",
   "metadata": {},
   "source": [
    "### Obtención cantidad de vistas con procesos"
   ]
  },
  {
   "cell_type": "code",
   "execution_count": 29,
   "id": "b00435ec",
   "metadata": {},
   "outputs": [
    {
     "ename": "WebDriverException",
     "evalue": "Message: disconnected: not connected to DevTools\n  (failed to check if window was closed: disconnected: not connected to DevTools)\n  (Session info: chrome=126.0.6478.63)\nStacktrace:\n\tGetHandleVerifier [0x007E0ED3+27667]\n\t(No symbol) [0x00776BD4]\n\t(No symbol) [0x00671AFF]\n\t(No symbol) [0x0065C878]\n\t(No symbol) [0x0065C799]\n\t(No symbol) [0x00673D20]\n\t(No symbol) [0x006EC396]\n\t(No symbol) [0x006D36C6]\n\t(No symbol) [0x006A74D1]\n\t(No symbol) [0x006A804D]\n\tGetHandleVerifier [0x00A93D43+2857603]\n\tGetHandleVerifier [0x00AE7EAD+3202029]\n\tGetHandleVerifier [0x008646D4+566292]\n\tGetHandleVerifier [0x0086B8CC+595468]\n\t(No symbol) [0x0077F9C4]\n\t(No symbol) [0x0077C6D8]\n\t(No symbol) [0x0077C877]\n\t(No symbol) [0x0076E76E]\n\tBaseThreadInitThunk [0x75EC7BA9+25]\n\tRtlInitializeExceptionChain [0x7724C10B+107]\n\tRtlClearBits [0x7724C08F+191]\n",
     "output_type": "error",
     "traceback": [
      "\u001b[1;31m---------------------------------------------------------------------------\u001b[0m",
      "\u001b[1;31mWebDriverException\u001b[0m                        Traceback (most recent call last)",
      "Cell \u001b[1;32mIn[29], line 2\u001b[0m\n\u001b[0;32m      1\u001b[0m \u001b[38;5;66;03m# Se obtiene el número limite para realizar los cambios de página\u001b[39;00m\n\u001b[1;32m----> 2\u001b[0m page_label \u001b[38;5;241m=\u001b[39m \u001b[43mdriver\u001b[49m\u001b[38;5;241;43m.\u001b[39;49m\u001b[43mfind_element\u001b[49m\u001b[43m(\u001b[49m\u001b[43mBy\u001b[49m\u001b[38;5;241;43m.\u001b[39;49m\u001b[43mXPATH\u001b[49m\u001b[43m,\u001b[49m\u001b[43m \u001b[49m\u001b[38;5;124;43m\"\u001b[39;49m\u001b[38;5;124;43m//div[@class = \u001b[39;49m\u001b[38;5;124;43m'\u001b[39;49m\u001b[38;5;124;43mmat-mdc-paginator-range-label\u001b[39;49m\u001b[38;5;124;43m'\u001b[39;49m\u001b[38;5;124;43m]\u001b[39;49m\u001b[38;5;124;43m\"\u001b[39;49m\u001b[43m)\u001b[49m\n\u001b[0;32m      3\u001b[0m text \u001b[38;5;241m=\u001b[39m page_label\u001b[38;5;241m.\u001b[39mtext\n\u001b[0;32m      5\u001b[0m \u001b[38;5;66;03m# Se utiliza la funcion split para obtener un array por palabra del texto obtenido y luego se obtiene el ultimo registro\u001b[39;00m\n",
      "File \u001b[1;32m~\\anaconda3\\Lib\\site-packages\\selenium\\webdriver\\remote\\webdriver.py:748\u001b[0m, in \u001b[0;36mWebDriver.find_element\u001b[1;34m(self, by, value)\u001b[0m\n\u001b[0;32m    745\u001b[0m     by \u001b[38;5;241m=\u001b[39m By\u001b[38;5;241m.\u001b[39mCSS_SELECTOR\n\u001b[0;32m    746\u001b[0m     value \u001b[38;5;241m=\u001b[39m \u001b[38;5;124mf\u001b[39m\u001b[38;5;124m'\u001b[39m\u001b[38;5;124m[name=\u001b[39m\u001b[38;5;124m\"\u001b[39m\u001b[38;5;132;01m{\u001b[39;00mvalue\u001b[38;5;132;01m}\u001b[39;00m\u001b[38;5;124m\"\u001b[39m\u001b[38;5;124m]\u001b[39m\u001b[38;5;124m'\u001b[39m\n\u001b[1;32m--> 748\u001b[0m \u001b[38;5;28;01mreturn\u001b[39;00m \u001b[38;5;28;43mself\u001b[39;49m\u001b[38;5;241;43m.\u001b[39;49m\u001b[43mexecute\u001b[49m\u001b[43m(\u001b[49m\u001b[43mCommand\u001b[49m\u001b[38;5;241;43m.\u001b[39;49m\u001b[43mFIND_ELEMENT\u001b[49m\u001b[43m,\u001b[49m\u001b[43m \u001b[49m\u001b[43m{\u001b[49m\u001b[38;5;124;43m\"\u001b[39;49m\u001b[38;5;124;43musing\u001b[39;49m\u001b[38;5;124;43m\"\u001b[39;49m\u001b[43m:\u001b[49m\u001b[43m \u001b[49m\u001b[43mby\u001b[49m\u001b[43m,\u001b[49m\u001b[43m \u001b[49m\u001b[38;5;124;43m\"\u001b[39;49m\u001b[38;5;124;43mvalue\u001b[39;49m\u001b[38;5;124;43m\"\u001b[39;49m\u001b[43m:\u001b[49m\u001b[43m \u001b[49m\u001b[43mvalue\u001b[49m\u001b[43m}\u001b[49m\u001b[43m)\u001b[49m[\u001b[38;5;124m\"\u001b[39m\u001b[38;5;124mvalue\u001b[39m\u001b[38;5;124m\"\u001b[39m]\n",
      "File \u001b[1;32m~\\anaconda3\\Lib\\site-packages\\selenium\\webdriver\\remote\\webdriver.py:354\u001b[0m, in \u001b[0;36mWebDriver.execute\u001b[1;34m(self, driver_command, params)\u001b[0m\n\u001b[0;32m    352\u001b[0m response \u001b[38;5;241m=\u001b[39m \u001b[38;5;28mself\u001b[39m\u001b[38;5;241m.\u001b[39mcommand_executor\u001b[38;5;241m.\u001b[39mexecute(driver_command, params)\n\u001b[0;32m    353\u001b[0m \u001b[38;5;28;01mif\u001b[39;00m response:\n\u001b[1;32m--> 354\u001b[0m     \u001b[38;5;28;43mself\u001b[39;49m\u001b[38;5;241;43m.\u001b[39;49m\u001b[43merror_handler\u001b[49m\u001b[38;5;241;43m.\u001b[39;49m\u001b[43mcheck_response\u001b[49m\u001b[43m(\u001b[49m\u001b[43mresponse\u001b[49m\u001b[43m)\u001b[49m\n\u001b[0;32m    355\u001b[0m     response[\u001b[38;5;124m\"\u001b[39m\u001b[38;5;124mvalue\u001b[39m\u001b[38;5;124m\"\u001b[39m] \u001b[38;5;241m=\u001b[39m \u001b[38;5;28mself\u001b[39m\u001b[38;5;241m.\u001b[39m_unwrap_value(response\u001b[38;5;241m.\u001b[39mget(\u001b[38;5;124m\"\u001b[39m\u001b[38;5;124mvalue\u001b[39m\u001b[38;5;124m\"\u001b[39m, \u001b[38;5;28;01mNone\u001b[39;00m))\n\u001b[0;32m    356\u001b[0m     \u001b[38;5;28;01mreturn\u001b[39;00m response\n",
      "File \u001b[1;32m~\\anaconda3\\Lib\\site-packages\\selenium\\webdriver\\remote\\errorhandler.py:229\u001b[0m, in \u001b[0;36mErrorHandler.check_response\u001b[1;34m(self, response)\u001b[0m\n\u001b[0;32m    227\u001b[0m         alert_text \u001b[38;5;241m=\u001b[39m value[\u001b[38;5;124m\"\u001b[39m\u001b[38;5;124malert\u001b[39m\u001b[38;5;124m\"\u001b[39m]\u001b[38;5;241m.\u001b[39mget(\u001b[38;5;124m\"\u001b[39m\u001b[38;5;124mtext\u001b[39m\u001b[38;5;124m\"\u001b[39m)\n\u001b[0;32m    228\u001b[0m     \u001b[38;5;28;01mraise\u001b[39;00m exception_class(message, screen, stacktrace, alert_text)  \u001b[38;5;66;03m# type: ignore[call-arg]  # mypy is not smart enough here\u001b[39;00m\n\u001b[1;32m--> 229\u001b[0m \u001b[38;5;28;01mraise\u001b[39;00m exception_class(message, screen, stacktrace)\n",
      "\u001b[1;31mWebDriverException\u001b[0m: Message: disconnected: not connected to DevTools\n  (failed to check if window was closed: disconnected: not connected to DevTools)\n  (Session info: chrome=126.0.6478.63)\nStacktrace:\n\tGetHandleVerifier [0x007E0ED3+27667]\n\t(No symbol) [0x00776BD4]\n\t(No symbol) [0x00671AFF]\n\t(No symbol) [0x0065C878]\n\t(No symbol) [0x0065C799]\n\t(No symbol) [0x00673D20]\n\t(No symbol) [0x006EC396]\n\t(No symbol) [0x006D36C6]\n\t(No symbol) [0x006A74D1]\n\t(No symbol) [0x006A804D]\n\tGetHandleVerifier [0x00A93D43+2857603]\n\tGetHandleVerifier [0x00AE7EAD+3202029]\n\tGetHandleVerifier [0x008646D4+566292]\n\tGetHandleVerifier [0x0086B8CC+595468]\n\t(No symbol) [0x0077F9C4]\n\t(No symbol) [0x0077C6D8]\n\t(No symbol) [0x0077C877]\n\t(No symbol) [0x0076E76E]\n\tBaseThreadInitThunk [0x75EC7BA9+25]\n\tRtlInitializeExceptionChain [0x7724C10B+107]\n\tRtlClearBits [0x7724C08F+191]\n"
     ]
    }
   ],
   "source": [
    "# Se obtiene el número limite para realizar los cambios de página\n",
    "page_label = driver.find_element(By.XPATH, \"//div[@class = 'mat-mdc-paginator-range-label']\")\n",
    "text = page_label.text\n",
    "\n",
    "# Se utiliza la funcion split para obtener un array por palabra del texto obtenido y luego se obtiene el ultimo registro\n",
    "parts = text.split()\n",
    "limit = int(parts[len(parts) - 1])"
   ]
  },
  {
   "cell_type": "markdown",
   "id": "999aefb2",
   "metadata": {},
   "source": [
    "### Obtención de todos los procesos"
   ]
  },
  {
   "cell_type": "code",
   "execution_count": 6,
   "id": "392a91bf",
   "metadata": {},
   "outputs": [],
   "source": [
    "# Obtengo el listado de procesos esperando antes 10 segundos para dar tiempo de que se carguen por completo\n",
    "listado_procesos = WebDriverWait(driver, 10).until(EC.presence_of_all_elements_located((By.XPATH,\"//div[@class = 'causa-individual ng-star-inserted']\")))\n",
    "# Se envia la lista de procesos encontrados por pantalla a la base de datos\n",
    "enviar_proceso(listado_procesos)\n",
    "\n",
    "# Ciclo para recorrer el listado de procesos y poder obtener y enviar los detalles de cada uno\n",
    "#for proceso in listado_procesos:\n",
    " #   obtencion_detalle(proceso)\n",
    "        \n",
    "\n",
    "# Se obtiene el boton de paso\n",
    "boton_paso = driver.find_element(By.XPATH,\"//button[@aria-label='Página siguiente']\")\n",
    "                                                           \n",
    "# Se recorren todas las vistas de los registros\n",
    "for i in range(limit-1):\n",
    "    \n",
    "        # click al boton de paso\n",
    "        boton_paso.click()\n",
    "        \n",
    "        # Espero a que se cargue la nueva página\n",
    "        sleep(random.uniform(8.0,10.0))\n",
    "        \n",
    "        # Obtengo el listado de procesos esperando antes 10 segundos para dar tiempo de que se carguen por completo\n",
    "        listado_procesos = WebDriverWait(driver, 10).until(EC.presence_of_all_elements_located((By.XPATH,\"//div[@class = 'causa-individual ng-star-inserted']\")))\n",
    "        \n",
    "        # Se envia la lista de procesos encontrados por pantalla a la base de datos\n",
    "        enviar_proceso(listado_procesos)\n",
    "        \n",
    "        #for proceso in listado_procesos:\n",
    "         #       obtencion_detalle(proceso)\n",
    "            \n",
    "            \n",
    "        # Espero a que se cargue la nueva página\n",
    "        sleep(random.uniform(8.0,10.0))\n",
    "        # Se obtiene el boton de paso\n",
    "        boton_paso = driver.find_element(By.XPATH,\"//button[@aria-label='Página siguiente']\")"
   ]
  },
  {
   "cell_type": "markdown",
   "id": "4c516a8a",
   "metadata": {},
   "source": [
    "### Retornando a la vista inicial"
   ]
  },
  {
   "cell_type": "code",
   "execution_count": 8,
   "id": "c0e774c6",
   "metadata": {},
   "outputs": [],
   "source": [
    "boton_inicio = driver.find_element(By.XPATH,\"//button[@aria-label='Primera página']\")\n",
    "boton_inicio.click()"
   ]
  },
  {
   "cell_type": "markdown",
   "id": "653baa9c",
   "metadata": {},
   "source": [
    "# Trabajo con DETALLES"
   ]
  },
  {
   "cell_type": "markdown",
   "id": "99c0b235",
   "metadata": {},
   "source": [
    "### Función para enviar los detalles"
   ]
  },
  {
   "cell_type": "code",
   "execution_count": 48,
   "id": "fa770c46",
   "metadata": {},
   "outputs": [],
   "source": [
    "def enviar_detalles(numero_proceso,listado_detalles):\n",
    "    for detalle in listado_detalles:\n",
    "        id_detalle = detalle.find_element('xpath','.//div[@class = \"numero-incidente\"]').text\n",
    "        fecha = detalle.find_element('xpath','.//div[@class = \"fecha-ingreso\"]').text\n",
    "        actores_ofendidos = detalle.find_element('xpath','.//div[@class = \"lista-actores\"]').text\n",
    "        demandados_procesados = detalle.find_element('xpath','.//div[@class = \"lista-demandados\"]').text\n",
    "        \n",
    "        \n",
    "        detalles.insert_one({\n",
    "            'id': id_detalle,\n",
    "            'numero_proceso': numero_proceso,\n",
    "            'fecha' : fecha,\n",
    "            'actores_ofendidos' : actores_ofendidos,\n",
    "            'demandados_procesados' : demandados_procesados\n",
    "        })"
   ]
  },
  {
   "cell_type": "markdown",
   "id": "68bc0251",
   "metadata": {},
   "source": [
    "### Función para obtener los detalles de un proceso"
   ]
  },
  {
   "cell_type": "code",
   "execution_count": 49,
   "id": "ca42f3a5",
   "metadata": {},
   "outputs": [],
   "source": [
    "# Obtención del detalle\n",
    "# Obtengo el listado de procesos esperando antes 10 segundos para dar tiempo de que se carguen por completo\n",
    "listado_procesos = WebDriverWait(driver, 10).until(EC.presence_of_all_elements_located((By.XPATH,\"//div[@class = 'causa-individual ng-star-inserted']\")))\n",
    "\n",
    "#print(listado_procesos[0].text)\n",
    "def obtencion_detalle(proceso):\n",
    "    \n",
    "        # Se espera unos segundos antes de dar click al boton de detalles\n",
    "        sleep(random.uniform(8.0,10.0))\n",
    "        listado_procesos = WebDriverWait(driver, 10).until(EC.presence_of_all_elements_located((By.XPATH,\"//div[@class = 'causa-individual ng-star-inserted']\")))\n",
    "        \n",
    "        numero_proceso = proceso.find_element(By.XPATH,'.//div[@class=\"numero-proceso\"]').text\n",
    "        boton_proceso = proceso.find_element(By.XPATH,'.//a[@href=\"/movimientos\"]')\n",
    "        boton_proceso.click()\n",
    "        \n",
    "        #listado_detalles = WebDriverWait(driver,10).until(EC.presence_of_all_elements_located((By.XPATH,\"//div[contains(@class = 'cabecera-tabla')]\")))\n",
    "        listado_detalles = WebDriverWait(driver, 10).until(EC.presence_of_all_elements_located((By.XPATH, \"//div[contains(@class, \\\"lista-movimiento-individual\\\")]\")))\n",
    "\n",
    "        # Se envian los detalles a la base de datos\n",
    "        enviar_detalles(numero_proceso,listado_detalles)\n"
   ]
  },
  {
   "cell_type": "markdown",
   "id": "66b2e44c",
   "metadata": {},
   "source": [
    "### Obtención de los detalles de cada proceso"
   ]
  },
  {
   "cell_type": "code",
   "execution_count": 25,
   "id": "5367cb9c",
   "metadata": {},
   "outputs": [
    {
     "ename": "StaleElementReferenceException",
     "evalue": "Message: stale element reference: stale element not found in the current frame\n  (Session info: chrome=126.0.6478.63); For documentation on this error, please visit: https://www.selenium.dev/documentation/webdriver/troubleshooting/errors#stale-element-reference-exception\nStacktrace:\n\tGetHandleVerifier [0x00F10ED3+27667]\n\t(No symbol) [0x00EA6BD4]\n\t(No symbol) [0x00DA1AFF]\n\t(No symbol) [0x00DA6BEF]\n\t(No symbol) [0x00DA8878]\n\t(No symbol) [0x00DA88F0]\n\t(No symbol) [0x00DE2847]\n\t(No symbol) [0x00DE2CDB]\n\t(No symbol) [0x00DD8C91]\n\t(No symbol) [0x00E03974]\n\t(No symbol) [0x00DD8BA5]\n\t(No symbol) [0x00E03BC4]\n\t(No symbol) [0x00E1CAC7]\n\t(No symbol) [0x00E036C6]\n\t(No symbol) [0x00DD74D1]\n\t(No symbol) [0x00DD804D]\n\tGetHandleVerifier [0x011C3D43+2857603]\n\tGetHandleVerifier [0x01217EAD+3202029]\n\tGetHandleVerifier [0x00F946D4+566292]\n\tGetHandleVerifier [0x00F9B8CC+595468]\n\t(No symbol) [0x00EAF9C4]\n\t(No symbol) [0x00EAC6D8]\n\t(No symbol) [0x00EAC877]\n\t(No symbol) [0x00E9E76E]\n\tBaseThreadInitThunk [0x75EC7BA9+25]\n\tRtlInitializeExceptionChain [0x7724C10B+107]\n\tRtlClearBits [0x7724C08F+191]\n",
     "output_type": "error",
     "traceback": [
      "\u001b[1;31m---------------------------------------------------------------------------\u001b[0m",
      "\u001b[1;31mStaleElementReferenceException\u001b[0m            Traceback (most recent call last)",
      "Cell \u001b[1;32mIn[25], line 24\u001b[0m\n\u001b[0;32m     22\u001b[0m \u001b[38;5;28;01mfor\u001b[39;00m s \u001b[38;5;129;01min\u001b[39;00m \u001b[38;5;28mrange\u001b[39m(\u001b[38;5;28mlen\u001b[39m(listado_procesos)):\n\u001b[0;32m     23\u001b[0m     listado_procesos \u001b[38;5;241m=\u001b[39m WebDriverWait(driver, \u001b[38;5;241m10\u001b[39m)\u001b[38;5;241m.\u001b[39muntil(EC\u001b[38;5;241m.\u001b[39mpresence_of_all_elements_located((By\u001b[38;5;241m.\u001b[39mXPATH,\u001b[38;5;124m\"\u001b[39m\u001b[38;5;124m//div[@class = \u001b[39m\u001b[38;5;124m'\u001b[39m\u001b[38;5;124mcausa-individual ng-star-inserted\u001b[39m\u001b[38;5;124m'\u001b[39m\u001b[38;5;124m]\u001b[39m\u001b[38;5;124m\"\u001b[39m)))\n\u001b[1;32m---> 24\u001b[0m     \u001b[43mobtencion_detalle\u001b[49m\u001b[43m(\u001b[49m\u001b[43mlistado_procesos\u001b[49m\u001b[43m[\u001b[49m\u001b[43mi\u001b[49m\u001b[43m]\u001b[49m\u001b[43m)\u001b[49m\n\u001b[0;32m     26\u001b[0m     sleep(random\u001b[38;5;241m.\u001b[39muniform(\u001b[38;5;241m3.0\u001b[39m,\u001b[38;5;241m5.0\u001b[39m))\n\u001b[0;32m     27\u001b[0m     driver\u001b[38;5;241m.\u001b[39mback()\n",
      "Cell \u001b[1;32mIn[22], line 11\u001b[0m, in \u001b[0;36mobtencion_detalle\u001b[1;34m(proceso)\u001b[0m\n\u001b[0;32m      6\u001b[0m \u001b[38;5;28;01mdef\u001b[39;00m \u001b[38;5;21mobtencion_detalle\u001b[39m(proceso):\n\u001b[0;32m      7\u001b[0m     \n\u001b[0;32m      8\u001b[0m         \u001b[38;5;66;03m# Se espera unos segundos antes de dar click al boton de detalles\u001b[39;00m\n\u001b[0;32m      9\u001b[0m         sleep(random\u001b[38;5;241m.\u001b[39muniform(\u001b[38;5;241m8.0\u001b[39m,\u001b[38;5;241m10.0\u001b[39m))\n\u001b[1;32m---> 11\u001b[0m         numero_proceso \u001b[38;5;241m=\u001b[39m \u001b[43mproceso\u001b[49m\u001b[38;5;241;43m.\u001b[39;49m\u001b[43mfind_element\u001b[49m\u001b[43m(\u001b[49m\u001b[43mBy\u001b[49m\u001b[38;5;241;43m.\u001b[39;49m\u001b[43mXPATH\u001b[49m\u001b[43m,\u001b[49m\u001b[38;5;124;43m'\u001b[39;49m\u001b[38;5;124;43m.//div[@class=\u001b[39;49m\u001b[38;5;124;43m\"\u001b[39;49m\u001b[38;5;124;43mnumero-proceso\u001b[39;49m\u001b[38;5;124;43m\"\u001b[39;49m\u001b[38;5;124;43m]\u001b[39;49m\u001b[38;5;124;43m'\u001b[39;49m\u001b[43m)\u001b[49m\u001b[38;5;241m.\u001b[39mtext\n\u001b[0;32m     12\u001b[0m         boton_proceso \u001b[38;5;241m=\u001b[39m proceso\u001b[38;5;241m.\u001b[39mfind_element(By\u001b[38;5;241m.\u001b[39mXPATH,\u001b[38;5;124m'\u001b[39m\u001b[38;5;124m.//a[@href=\u001b[39m\u001b[38;5;124m\"\u001b[39m\u001b[38;5;124m/movimientos\u001b[39m\u001b[38;5;124m\"\u001b[39m\u001b[38;5;124m]\u001b[39m\u001b[38;5;124m'\u001b[39m)\n\u001b[0;32m     13\u001b[0m         boton_proceso\u001b[38;5;241m.\u001b[39mclick()\n",
      "File \u001b[1;32m~\\anaconda3\\Lib\\site-packages\\selenium\\webdriver\\remote\\webelement.py:417\u001b[0m, in \u001b[0;36mWebElement.find_element\u001b[1;34m(self, by, value)\u001b[0m\n\u001b[0;32m    414\u001b[0m     by \u001b[38;5;241m=\u001b[39m By\u001b[38;5;241m.\u001b[39mCSS_SELECTOR\n\u001b[0;32m    415\u001b[0m     value \u001b[38;5;241m=\u001b[39m \u001b[38;5;124mf\u001b[39m\u001b[38;5;124m'\u001b[39m\u001b[38;5;124m[name=\u001b[39m\u001b[38;5;124m\"\u001b[39m\u001b[38;5;132;01m{\u001b[39;00mvalue\u001b[38;5;132;01m}\u001b[39;00m\u001b[38;5;124m\"\u001b[39m\u001b[38;5;124m]\u001b[39m\u001b[38;5;124m'\u001b[39m\n\u001b[1;32m--> 417\u001b[0m \u001b[38;5;28;01mreturn\u001b[39;00m \u001b[38;5;28;43mself\u001b[39;49m\u001b[38;5;241;43m.\u001b[39;49m\u001b[43m_execute\u001b[49m\u001b[43m(\u001b[49m\u001b[43mCommand\u001b[49m\u001b[38;5;241;43m.\u001b[39;49m\u001b[43mFIND_CHILD_ELEMENT\u001b[49m\u001b[43m,\u001b[49m\u001b[43m \u001b[49m\u001b[43m{\u001b[49m\u001b[38;5;124;43m\"\u001b[39;49m\u001b[38;5;124;43musing\u001b[39;49m\u001b[38;5;124;43m\"\u001b[39;49m\u001b[43m:\u001b[49m\u001b[43m \u001b[49m\u001b[43mby\u001b[49m\u001b[43m,\u001b[49m\u001b[43m \u001b[49m\u001b[38;5;124;43m\"\u001b[39;49m\u001b[38;5;124;43mvalue\u001b[39;49m\u001b[38;5;124;43m\"\u001b[39;49m\u001b[43m:\u001b[49m\u001b[43m \u001b[49m\u001b[43mvalue\u001b[49m\u001b[43m}\u001b[49m\u001b[43m)\u001b[49m[\u001b[38;5;124m\"\u001b[39m\u001b[38;5;124mvalue\u001b[39m\u001b[38;5;124m\"\u001b[39m]\n",
      "File \u001b[1;32m~\\anaconda3\\Lib\\site-packages\\selenium\\webdriver\\remote\\webelement.py:395\u001b[0m, in \u001b[0;36mWebElement._execute\u001b[1;34m(self, command, params)\u001b[0m\n\u001b[0;32m    393\u001b[0m     params \u001b[38;5;241m=\u001b[39m {}\n\u001b[0;32m    394\u001b[0m params[\u001b[38;5;124m\"\u001b[39m\u001b[38;5;124mid\u001b[39m\u001b[38;5;124m\"\u001b[39m] \u001b[38;5;241m=\u001b[39m \u001b[38;5;28mself\u001b[39m\u001b[38;5;241m.\u001b[39m_id\n\u001b[1;32m--> 395\u001b[0m \u001b[38;5;28;01mreturn\u001b[39;00m \u001b[38;5;28;43mself\u001b[39;49m\u001b[38;5;241;43m.\u001b[39;49m\u001b[43m_parent\u001b[49m\u001b[38;5;241;43m.\u001b[39;49m\u001b[43mexecute\u001b[49m\u001b[43m(\u001b[49m\u001b[43mcommand\u001b[49m\u001b[43m,\u001b[49m\u001b[43m \u001b[49m\u001b[43mparams\u001b[49m\u001b[43m)\u001b[49m\n",
      "File \u001b[1;32m~\\anaconda3\\Lib\\site-packages\\selenium\\webdriver\\remote\\webdriver.py:354\u001b[0m, in \u001b[0;36mWebDriver.execute\u001b[1;34m(self, driver_command, params)\u001b[0m\n\u001b[0;32m    352\u001b[0m response \u001b[38;5;241m=\u001b[39m \u001b[38;5;28mself\u001b[39m\u001b[38;5;241m.\u001b[39mcommand_executor\u001b[38;5;241m.\u001b[39mexecute(driver_command, params)\n\u001b[0;32m    353\u001b[0m \u001b[38;5;28;01mif\u001b[39;00m response:\n\u001b[1;32m--> 354\u001b[0m     \u001b[38;5;28;43mself\u001b[39;49m\u001b[38;5;241;43m.\u001b[39;49m\u001b[43merror_handler\u001b[49m\u001b[38;5;241;43m.\u001b[39;49m\u001b[43mcheck_response\u001b[49m\u001b[43m(\u001b[49m\u001b[43mresponse\u001b[49m\u001b[43m)\u001b[49m\n\u001b[0;32m    355\u001b[0m     response[\u001b[38;5;124m\"\u001b[39m\u001b[38;5;124mvalue\u001b[39m\u001b[38;5;124m\"\u001b[39m] \u001b[38;5;241m=\u001b[39m \u001b[38;5;28mself\u001b[39m\u001b[38;5;241m.\u001b[39m_unwrap_value(response\u001b[38;5;241m.\u001b[39mget(\u001b[38;5;124m\"\u001b[39m\u001b[38;5;124mvalue\u001b[39m\u001b[38;5;124m\"\u001b[39m, \u001b[38;5;28;01mNone\u001b[39;00m))\n\u001b[0;32m    356\u001b[0m     \u001b[38;5;28;01mreturn\u001b[39;00m response\n",
      "File \u001b[1;32m~\\anaconda3\\Lib\\site-packages\\selenium\\webdriver\\remote\\errorhandler.py:229\u001b[0m, in \u001b[0;36mErrorHandler.check_response\u001b[1;34m(self, response)\u001b[0m\n\u001b[0;32m    227\u001b[0m         alert_text \u001b[38;5;241m=\u001b[39m value[\u001b[38;5;124m\"\u001b[39m\u001b[38;5;124malert\u001b[39m\u001b[38;5;124m\"\u001b[39m]\u001b[38;5;241m.\u001b[39mget(\u001b[38;5;124m\"\u001b[39m\u001b[38;5;124mtext\u001b[39m\u001b[38;5;124m\"\u001b[39m)\n\u001b[0;32m    228\u001b[0m     \u001b[38;5;28;01mraise\u001b[39;00m exception_class(message, screen, stacktrace, alert_text)  \u001b[38;5;66;03m# type: ignore[call-arg]  # mypy is not smart enough here\u001b[39;00m\n\u001b[1;32m--> 229\u001b[0m \u001b[38;5;28;01mraise\u001b[39;00m exception_class(message, screen, stacktrace)\n",
      "\u001b[1;31mStaleElementReferenceException\u001b[0m: Message: stale element reference: stale element not found in the current frame\n  (Session info: chrome=126.0.6478.63); For documentation on this error, please visit: https://www.selenium.dev/documentation/webdriver/troubleshooting/errors#stale-element-reference-exception\nStacktrace:\n\tGetHandleVerifier [0x00F10ED3+27667]\n\t(No symbol) [0x00EA6BD4]\n\t(No symbol) [0x00DA1AFF]\n\t(No symbol) [0x00DA6BEF]\n\t(No symbol) [0x00DA8878]\n\t(No symbol) [0x00DA88F0]\n\t(No symbol) [0x00DE2847]\n\t(No symbol) [0x00DE2CDB]\n\t(No symbol) [0x00DD8C91]\n\t(No symbol) [0x00E03974]\n\t(No symbol) [0x00DD8BA5]\n\t(No symbol) [0x00E03BC4]\n\t(No symbol) [0x00E1CAC7]\n\t(No symbol) [0x00E036C6]\n\t(No symbol) [0x00DD74D1]\n\t(No symbol) [0x00DD804D]\n\tGetHandleVerifier [0x011C3D43+2857603]\n\tGetHandleVerifier [0x01217EAD+3202029]\n\tGetHandleVerifier [0x00F946D4+566292]\n\tGetHandleVerifier [0x00F9B8CC+595468]\n\t(No symbol) [0x00EAF9C4]\n\t(No symbol) [0x00EAC6D8]\n\t(No symbol) [0x00EAC877]\n\t(No symbol) [0x00E9E76E]\n\tBaseThreadInitThunk [0x75EC7BA9+25]\n\tRtlInitializeExceptionChain [0x7724C10B+107]\n\tRtlClearBits [0x7724C08F+191]\n"
     ]
    }
   ],
   "source": [
    "for i in range(len(listado_procesos)):\n",
    "    listado_procesos = WebDriverWait(driver, 10).until(EC.presence_of_all_elements_located((By.XPATH,\"//div[@class = 'causa-individual ng-star-inserted']\")))\n",
    "    obtencion_detalle(listado_procesos[i])\n",
    "    \n",
    "    sleep(random.uniform(3.0,5.0))\n",
    "    driver.back()\n",
    "\n",
    "listado_procesos = WebDriverWait(driver, 10).until(EC.presence_of_all_elements_located((By.XPATH,\"//div[@class = 'causa-individual ng-star-inserted']\")))\n",
    "sleep(random.uniform(3.0,5.0))\n",
    "# Se obtiene el boton de paso\n",
    "boton_paso = driver.find_element(By.XPATH,\"//button[@aria-label='Página siguiente']\")\n",
    "for i in range(limit-1):\n",
    "    \n",
    "    # ciclo para dar click en el boton de paso las veces necesarias para llegar a la vista que necesito\n",
    "    for n in range(i+1) : \n",
    "        boton_paso.click()\n",
    "    \n",
    "    sleep(random.uniform(3.0,5.0))\n",
    "    \n",
    "    listado_procesos = WebDriverWait(driver, 10).until(EC.presence_of_all_elements_located((By.XPATH,\"//div[@class = 'causa-individual ng-star-inserted']\")))\n",
    "    \n",
    "    for s in range(len(listado_procesos)):\n",
    "        listado_procesos = WebDriverWait(driver, 10).until(EC.presence_of_all_elements_located((By.XPATH,\"//div[@class = 'causa-individual ng-star-inserted']\")))\n",
    "        obtencion_detalle(listado_procesos[i])\n",
    "\n",
    "        sleep(random.uniform(3.0,5.0))\n",
    "        driver.back()\n",
    "        \n",
    "        boton_paso = driver.find_element(By.XPATH,\"//button[@aria-label='Página siguiente']\")\n",
    "        \n",
    "        # ciclo para dar click en el boton de paso las veces necesarias para llegar a la vista que necesito\n",
    "        for n in range(i+1) : \n",
    "            boton_paso.click()\n",
    "        \n",
    "        \n",
    "    boton_paso = driver.find_element(By.XPATH,\"//button[@aria-label='Página siguiente']\")"
   ]
  },
  {
   "cell_type": "markdown",
   "id": "75642884",
   "metadata": {},
   "source": [
    "# Trabajo con Actuaciones Judiciales"
   ]
  },
  {
   "cell_type": "markdown",
   "id": "4fd23db0",
   "metadata": {},
   "source": [
    "### Función para guardar los detalles en la base de datos"
   ]
  },
  {
   "cell_type": "code",
   "execution_count": 40,
   "id": "197a2da5",
   "metadata": {},
   "outputs": [],
   "source": [
    "def enviar_detalles(numero_proceso, listado_detalles):\n",
    "    for detalle in listado_detalles:\n",
    "        #fecha_ingreso = detalle.find_element('xpath','.//')\n",
    "        titulo_detalle = detalle.find_element('xpath','.//span[contains(@class, \\\"title\\\")]').text\n",
    "        \n",
    "        detalles.insert_one({\n",
    "            'titulo_detalle': titulo_detalle,\n",
    "            'numero_proceso': numero_proceso\n",
    "        })"
   ]
  },
  {
   "cell_type": "markdown",
   "id": "f614386e",
   "metadata": {},
   "source": [
    "### Función para buscar los detalles"
   ]
  },
  {
   "cell_type": "code",
   "execution_count": 41,
   "id": "1fc3d9dc",
   "metadata": {},
   "outputs": [],
   "source": [
    "# Obtención del detalle\n",
    "# Obtengo el listado de procesos esperando antes 10 segundos para dar tiempo de que se carguen por completo\n",
    "# listado_procesos = WebDriverWait(driver, 10).until(EC.presence_of_all_elements_located((By.XPATH,\"//div[@class = 'causa-individual ng-star-inserted']\")))\n",
    "\n",
    "#print(listado_procesos[0].text)\n",
    "def obtencion_detalle(proceso):\n",
    "    try:\n",
    "        # Se espera unos segundos antes de dar click al boton de detalles\n",
    "        sleep(random.uniform(8.0,10.0))\n",
    "\n",
    "        numero_proceso = proceso.find_element(By.XPATH,'.//div[@class=\"numero-proceso\"]').text\n",
    "        boton_proceso = proceso.find_element(By.XPATH,'.//a[@href=\"/movimientos\"]')\n",
    "        boton_proceso.click()\n",
    "\n",
    "        # Se espera unos segundos antes de dar click al boton de detalles\n",
    "        sleep(random.uniform(8.0,10.0))\n",
    "        boton_detalle_proceso = driver.find_element(By.XPATH,'.//a[@href=\"/actuaciones\"]')\n",
    "        boton_detalle_proceso.click()\n",
    "        # Se extraen todos los detalles según la fecha de ingreso\n",
    "        #listado_detalles = WebDriverWait(driver,10).until(EC.presence_of_all_elements_located((By.XPATH,\"//div[contains(@class = 'cabecera-tabla')]\")))\n",
    "        listado_detalles = WebDriverWait(driver, 10).until(EC.presence_of_all_elements_located((By.XPATH, \"//span[contains(@class, \\\"mat-content\\\")]\")))\n",
    "\n",
    "        # Se envian los detalles a la base de datos\n",
    "        enviar_detalles(numero_proceso,listado_detalles)\n",
    "\n",
    "        sleep(random.uniform(3.0,5.0))\n",
    "        driver.back()\n",
    "        driver.back()\n",
    "        \n",
    "    except StaleElementReferenceException:\n",
    "        # Reintentar localizar y obtener detalles del proceso\n",
    "        sleep(2)  # Puede ajustarse según necesidades\n",
    "        obtencion_detalle(proceso)\n",
    "\n",
    "#obtencion_detalle(listado_procesos[0])\n",
    "\n"
   ]
  },
  {
   "cell_type": "markdown",
   "id": "ccbb7598",
   "metadata": {},
   "source": [
    "# PRUEBAS"
   ]
  },
  {
   "cell_type": "code",
   "execution_count": 45,
   "id": "8425ef05",
   "metadata": {},
   "outputs": [],
   "source": [
    "opts = Options()\n",
    "opts.add_argument(\"user-agent=Mozilla/5.0 (Macintosh; Intel Mac OS X 10_15_7) AppleWebKit/537.36 (KHTML, like Gecko) Chrome/113.0.0.0 Safari/537.36\")\n",
    "\n",
    "# Conexión con la página web a \"scrapear\"\n",
    "driver = webdriver.Chrome(service = Service(ChromeDriverManager().install()), options=opts)\n",
    "driver.get('https://procesosjudiciales.funcionjudicial.gob.ec/busqueda-filtros')\n"
   ]
  },
  {
   "cell_type": "code",
   "execution_count": 46,
   "id": "a4b9880e",
   "metadata": {},
   "outputs": [],
   "source": [
    "# Se obtiene el número limite para realizar los cambios de página\n",
    "page_label = driver.find_element(By.XPATH, \"//div[@class = 'mat-mdc-paginator-range-label']\")\n",
    "text = page_label.text\n",
    "\n",
    "# Se utiliza la funcion split para obtener un array por palabra del texto obtenido y luego se obtiene el ultimo registro\n",
    "parts = text.split()\n",
    "limit = int(parts[len(parts) - 1])"
   ]
  },
  {
   "cell_type": "code",
   "execution_count": 53,
   "id": "00dda09c",
   "metadata": {},
   "outputs": [],
   "source": [
    "def recorrido_por_vista(num_vista,listado_procesos):\n",
    "    for i in range(len(listado_procesos)):\n",
    "        try:\n",
    "            sleep(random.uniform(3.0,5.0))\n",
    "            listado_procesos = WebDriverWait(driver, 10).until(EC.presence_of_all_elements_located((By.XPATH,\"//div[@class = 'causa-individual ng-star-inserted']\")))\n",
    "            sleep(random.uniform(3.0,5.0))\n",
    "\n",
    "            # Se obtiene el boton de paso\n",
    "            boton_paso = driver.find_element(By.XPATH,\"//button[@aria-label='Página siguiente']\")\n",
    "\n",
    "            # ciclo para dar click en el boton de paso las veces necesarias para llegar a la vista que necesito\n",
    "            for n in range(num_vista-1) : \n",
    "                boton_paso.click()\n",
    "\n",
    "            sleep(random.uniform(3.0,5.0))\n",
    "            listado_procesos = WebDriverWait(driver, 10).until(EC.presence_of_all_elements_located((By.XPATH,\"//div[@class = 'causa-individual ng-star-inserted']\")))\n",
    "            boton_proceso = listado_procesos[i].find_element(By.XPATH,'.//a[@href=\"/movimientos\"]')\n",
    "            boton_proceso.click()\n",
    "\n",
    "            # Obtengo los detalles del proceso\n",
    "            # sleep(random.uniform(3.0,5.0))\n",
    "            # obtencion_detalle(listado_procesos[i])\n",
    "\n",
    "            sleep(random.uniform(3.0,5.0))\n",
    "            driver.back()\n",
    "            \n",
    "        except StaleElementReferenceException:\n",
    "            sleep(random.uniform(3.0,5.0))\n",
    "            listado_procesos = WebDriverWait(driver, 10).until(EC.presence_of_all_elements_located((By.XPATH,\"//div[@class = 'causa-individual ng-star-inserted']\")))\n",
    "\n"
   ]
  },
  {
   "cell_type": "code",
   "execution_count": 54,
   "id": "47b01365",
   "metadata": {},
   "outputs": [
    {
     "ename": "KeyboardInterrupt",
     "evalue": "",
     "output_type": "error",
     "traceback": [
      "\u001b[1;31m---------------------------------------------------------------------------\u001b[0m",
      "\u001b[1;31mKeyboardInterrupt\u001b[0m                         Traceback (most recent call last)",
      "Cell \u001b[1;32mIn[54], line 8\u001b[0m\n\u001b[0;32m      5\u001b[0m \u001b[38;5;28;01mfor\u001b[39;00m i \u001b[38;5;129;01min\u001b[39;00m \u001b[38;5;28mrange\u001b[39m(limit\u001b[38;5;241m-\u001b[39m\u001b[38;5;241m1\u001b[39m):\n\u001b[0;32m      6\u001b[0m    \u001b[38;5;66;03m# sleep(random.uniform(3.0,5.0))\u001b[39;00m\n\u001b[0;32m      7\u001b[0m     listado_procesos \u001b[38;5;241m=\u001b[39m WebDriverWait(driver, \u001b[38;5;241m10\u001b[39m)\u001b[38;5;241m.\u001b[39muntil(EC\u001b[38;5;241m.\u001b[39mpresence_of_all_elements_located((By\u001b[38;5;241m.\u001b[39mXPATH,\u001b[38;5;124m\"\u001b[39m\u001b[38;5;124m//div[@class = \u001b[39m\u001b[38;5;124m'\u001b[39m\u001b[38;5;124mcausa-individual ng-star-inserted\u001b[39m\u001b[38;5;124m'\u001b[39m\u001b[38;5;124m]\u001b[39m\u001b[38;5;124m\"\u001b[39m)))\n\u001b[1;32m----> 8\u001b[0m     \u001b[43mrecorrido_por_vista\u001b[49m\u001b[43m(\u001b[49m\u001b[43mnum_vista\u001b[49m\u001b[43m,\u001b[49m\u001b[43m \u001b[49m\u001b[43mlistado_procesos\u001b[49m\u001b[43m)\u001b[49m\n\u001b[0;32m     10\u001b[0m     num_vista \u001b[38;5;241m+\u001b[39m\u001b[38;5;241m=\u001b[39m \u001b[38;5;241m1\u001b[39m\n",
      "Cell \u001b[1;32mIn[53], line 6\u001b[0m, in \u001b[0;36mrecorrido_por_vista\u001b[1;34m(num_vista, listado_procesos)\u001b[0m\n\u001b[0;32m      4\u001b[0m sleep(random\u001b[38;5;241m.\u001b[39muniform(\u001b[38;5;241m3.0\u001b[39m,\u001b[38;5;241m5.0\u001b[39m))\n\u001b[0;32m      5\u001b[0m listado_procesos \u001b[38;5;241m=\u001b[39m WebDriverWait(driver, \u001b[38;5;241m10\u001b[39m)\u001b[38;5;241m.\u001b[39muntil(EC\u001b[38;5;241m.\u001b[39mpresence_of_all_elements_located((By\u001b[38;5;241m.\u001b[39mXPATH,\u001b[38;5;124m\"\u001b[39m\u001b[38;5;124m//div[@class = \u001b[39m\u001b[38;5;124m'\u001b[39m\u001b[38;5;124mcausa-individual ng-star-inserted\u001b[39m\u001b[38;5;124m'\u001b[39m\u001b[38;5;124m]\u001b[39m\u001b[38;5;124m\"\u001b[39m)))\n\u001b[1;32m----> 6\u001b[0m sleep(random\u001b[38;5;241m.\u001b[39muniform(\u001b[38;5;241m3.0\u001b[39m,\u001b[38;5;241m5.0\u001b[39m))\n\u001b[0;32m      8\u001b[0m \u001b[38;5;66;03m# Se obtiene el boton de paso\u001b[39;00m\n\u001b[0;32m      9\u001b[0m boton_paso \u001b[38;5;241m=\u001b[39m driver\u001b[38;5;241m.\u001b[39mfind_element(By\u001b[38;5;241m.\u001b[39mXPATH,\u001b[38;5;124m\"\u001b[39m\u001b[38;5;124m//button[@aria-label=\u001b[39m\u001b[38;5;124m'\u001b[39m\u001b[38;5;124mPágina siguiente\u001b[39m\u001b[38;5;124m'\u001b[39m\u001b[38;5;124m]\u001b[39m\u001b[38;5;124m\"\u001b[39m)\n",
      "\u001b[1;31mKeyboardInterrupt\u001b[0m: "
     ]
    }
   ],
   "source": [
    "num_vista = 1\n",
    "sleep(random.uniform(3.0,5.0))\n",
    "listado_procesos = WebDriverWait(driver, 10).until(EC.presence_of_all_elements_located((By.XPATH,\"//div[@class = 'causa-individual ng-star-inserted']\")))\n",
    "\n",
    "for i in range(limit-1):\n",
    "   # sleep(random.uniform(3.0,5.0))\n",
    "    listado_procesos = WebDriverWait(driver, 10).until(EC.presence_of_all_elements_located((By.XPATH,\"//div[@class = 'causa-individual ng-star-inserted']\")))\n",
    "    recorrido_por_vista(num_vista, listado_procesos)\n",
    "\n",
    "    num_vista += 1"
   ]
  },
  {
   "cell_type": "code",
   "execution_count": null,
   "id": "f6def655",
   "metadata": {},
   "outputs": [],
   "source": []
  }
 ],
 "metadata": {
  "kernelspec": {
   "display_name": "Python 3 (ipykernel)",
   "language": "python",
   "name": "python3"
  },
  "language_info": {
   "codemirror_mode": {
    "name": "ipython",
    "version": 3
   },
   "file_extension": ".py",
   "mimetype": "text/x-python",
   "name": "python",
   "nbconvert_exporter": "python",
   "pygments_lexer": "ipython3",
   "version": "3.11.5"
  }
 },
 "nbformat": 4,
 "nbformat_minor": 5
}
