{
 "cells": [
  {
   "cell_type": "code",
   "execution_count": 1,
   "id": "70ce984b",
   "metadata": {},
   "outputs": [
    {
     "name": "stdout",
     "output_type": "stream",
     "text": [
      "Requirement already satisfied: pymongo in c:\\users\\juand\\anaconda3\\lib\\site-packages (4.7.3)\n",
      "Requirement already satisfied: dnspython<3.0.0,>=1.16.0 in c:\\users\\juand\\anaconda3\\lib\\site-packages (from pymongo) (2.6.1)\n"
     ]
    }
   ],
   "source": [
    "# Importaciones e instalaciones necesarias\n",
    "from selenium import webdriver\n",
    "import random \n",
    "from time import sleep\n",
    "from selenium.webdriver.common.by import By\n",
    "from selenium.webdriver.support import expected_conditions as EC\n",
    "from selenium.webdriver.support.ui import WebDriverWait\n",
    "from selenium.webdriver.chrome.options import Options\n",
    "from selenium.webdriver.chrome.service import Service\n",
    "from webdriver_manager.chrome import ChromeDriverManager # pip install webdriver-manager\n",
    "from selenium.common.exceptions import TimeoutException, StaleElementReferenceException\n",
    "\n",
    "# Para trabajar con mongodb\n",
    "!pip install pymongo\n",
    "from pymongo import MongoClient\n",
    "client = MongoClient('localhost')\n",
    "db = client['pruebaTusDatos']\n",
    "col = db['procesos']\n",
    "detalles = db['detalles']\n",
    "actuaciones = db['actuaciones']"
   ]
  },
  {
   "cell_type": "code",
   "execution_count": 2,
   "id": "4713a537",
   "metadata": {},
   "outputs": [],
   "source": [
    "opts = Options()\n",
    "opts.add_argument(\"user-agent=Mozilla/5.0 (Macintosh; Intel Mac OS X 10_15_7) AppleWebKit/537.36 (KHTML, like Gecko) Chrome/113.0.0.0 Safari/537.36\")\n",
    "\n",
    "# Conexión con la página web a \"scrapear\"\n",
    "driver = webdriver.Chrome(service = Service(ChromeDriverManager().install()), options=opts)\n",
    "driver.get('https://procesosjudiciales.funcionjudicial.gob.ec/busqueda-filtros')\n",
    "\n",
    "# Se establece el tipo de proceso a realizar\n",
    "#type_process = int(input(\"Desea ingresar código para: \\n\"+\n",
    " #                  \"1. Demandante\\n\"+\n",
    "  #                 \"2. Demandado\\n\"))\n",
    "# Código del demandante o demandado\n",
    "# Demandante1 = 0968599020001\n",
    "# Demandante2 = 0992339411001\n",
    "\n",
    "# Demandado1 = 1791251237001\n",
    "# Demandado2 = 0968599020001\n",
    "# codigo = input(\"Ingrese el número de identificación: \")\n",
    "type_process = 1\n",
    "codigo = \"0992339411001\"\n"
   ]
  },
  {
   "cell_type": "code",
   "execution_count": 3,
   "id": "28f3e251",
   "metadata": {},
   "outputs": [],
   "source": [
    "# Me doy cuenta que la pagina carga el formulario dinamicamente luego de que la carga incial ha sido completada\n",
    "# Por eso tengo que esperar que aparezca \n",
    "if type_process == 1:\n",
    "    input_user = WebDriverWait(driver, 10).until(EC.presence_of_element_located((By.XPATH, \"//input[@formcontrolname = 'cedulaActor']\")))\n",
    "    input_user.send_keys(codigo)\n",
    "elif type_process == 2:\n",
    "    input_user = WebDriverWait(driver, 10).until(EC.presence_of_element_located((By.XPATH, \"//input[@formcontrolname = 'cedulaDemandado']\")))\n",
    "    input_user.send_keys(codigo)\n",
    "\n",
    "\n",
    "# Click al boton buscar\n",
    "boton_buscar = driver.find_element(By.XPATH,\"//button[@type = 'submit']\")\n",
    "boton_buscar.click()\n"
   ]
  },
  {
   "cell_type": "markdown",
   "id": "d7085c99",
   "metadata": {},
   "source": [
    "# Trabajo con PROCESO"
   ]
  },
  {
   "cell_type": "markdown",
   "id": "85454f8f",
   "metadata": {},
   "source": [
    "### Función para enviar un proceso a la base de datos"
   ]
  },
  {
   "cell_type": "code",
   "execution_count": 9,
   "id": "2641a60b",
   "metadata": {},
   "outputs": [],
   "source": [
    "def enviar_proceso(listado_proceso):\n",
    "    for proceso in listado_proceso:\n",
    "        id_proceso = proceso.find_element('xpath','.//div[@class=\"id\"]').text\n",
    "        fecha = proceso.find_element('xpath','.//div[@class=\"fecha\"]').text\n",
    "        numero_proceso = proceso.find_element('xpath','.//div[@class=\"numero-proceso\"]').text\n",
    "        accion_infraccion = proceso.find_element('xpath','.//div[@class=\"accion-infraccion\"]').text\n",
    "        \n",
    "        # Se envia la información obtenida a la base de datos\n",
    "        col.insert_one({\n",
    "            'id':id_proceso,\n",
    "            'fecha': fecha,\n",
    "            'numero_proceso': numero_proceso,\n",
    "            'accion_infraccion': accion_infraccion\n",
    "        })"
   ]
  },
  {
   "cell_type": "markdown",
   "id": "b4d9032b",
   "metadata": {},
   "source": [
    "### Obtención cantidad de vistas con procesos"
   ]
  },
  {
   "cell_type": "code",
   "execution_count": 6,
   "id": "b00435ec",
   "metadata": {},
   "outputs": [],
   "source": [
    "# Se controla la excepción en caso de que la página no cargue correctamente y no se pueda obtener el elemento page_label\n",
    "try:\n",
    "    # Se obtiene el número limite para realizar los cambios de página\n",
    "    page_label = driver.find_element(By.XPATH, \"//div[@class = 'mat-mdc-paginator-range-label']\")\n",
    "    text = page_label.text\n",
    "\n",
    "    # Se utiliza la funcion split para obtener un array por palabra del texto obtenido y luego se obtiene el ultimo registro\n",
    "    parts = text.split()\n",
    "    limit = int(parts[len(parts) - 1])\n",
    "except:\n",
    "    driver.refresh()"
   ]
  },
  {
   "cell_type": "markdown",
   "id": "96be1697",
   "metadata": {},
   "source": [
    "### Obtención de todos los procesos"
   ]
  },
  {
   "cell_type": "code",
   "execution_count": 11,
   "id": "392a91bf",
   "metadata": {},
   "outputs": [],
   "source": [
    "# Obtengo el listado de procesos esperando antes 10 segundos para dar tiempo de que se carguen por completo\n",
    "listado_procesos = WebDriverWait(driver, 10).until(EC.presence_of_all_elements_located((By.XPATH,\"//div[@class = 'causa-individual ng-star-inserted']\")))\n",
    "# Se envia la lista de procesos encontrados por pantalla a la base de datos\n",
    "enviar_proceso(listado_procesos)\n",
    "\n",
    "# Ciclo para recorrer el listado de procesos y poder obtener y enviar los detalles de cada uno\n",
    "#for proceso in listado_procesos:\n",
    " #   obtencion_detalle(proceso)\n",
    "        \n",
    "\n",
    "# Se obtiene el boton de paso\n",
    "boton_paso = driver.find_element(By.XPATH,\"//button[@aria-label='Página siguiente']\")\n",
    "                                                           \n",
    "# Se recorren todas las vistas de los registros\n",
    "for i in range(limit-1):\n",
    "    \n",
    "        # click al boton de paso\n",
    "        boton_paso.click()\n",
    "        \n",
    "        # Espero a que se cargue la nueva página\n",
    "        sleep(random.uniform(8.0,10.0))\n",
    "        \n",
    "        # Obtengo el listado de procesos esperando antes 10 segundos para dar tiempo de que se carguen por completo\n",
    "        listado_procesos = WebDriverWait(driver, 10).until(EC.presence_of_all_elements_located((By.XPATH,\"//div[@class = 'causa-individual ng-star-inserted']\")))\n",
    "        \n",
    "        # Se envia la lista de procesos encontrados por pantalla a la base de datos\n",
    "        enviar_proceso(listado_procesos)\n",
    "        \n",
    "        #for proceso in listado_procesos:\n",
    "         #       obtencion_detalle(proceso)\n",
    "            \n",
    "            \n",
    "        # Espero a que se cargue la nueva página\n",
    "        sleep(random.uniform(8.0,10.0))\n",
    "        # Se obtiene el boton de paso\n",
    "        boton_paso = driver.find_element(By.XPATH,\"//button[@aria-label='Página siguiente']\")"
   ]
  },
  {
   "cell_type": "markdown",
   "id": "365d3c8c",
   "metadata": {},
   "source": [
    "### Retornando a la vista inicial"
   ]
  },
  {
   "cell_type": "code",
   "execution_count": 12,
   "id": "c0e774c6",
   "metadata": {},
   "outputs": [],
   "source": [
    "boton_inicio = driver.find_element(By.XPATH,\"//button[@aria-label='Primera página']\")\n",
    "boton_inicio.click()"
   ]
  },
  {
   "cell_type": "markdown",
   "id": "653baa9c",
   "metadata": {},
   "source": [
    "# Trabajo con DETALLES"
   ]
  },
  {
   "cell_type": "markdown",
   "id": "99c0b235",
   "metadata": {},
   "source": [
    "### Función para enviar los detalles"
   ]
  },
  {
   "cell_type": "code",
   "execution_count": 13,
   "id": "fa770c46",
   "metadata": {},
   "outputs": [],
   "source": [
    "def enviar_detalles(numero_proceso,listado_detalles):\n",
    "    for detalle in listado_detalles:\n",
    "        id_detalle = detalle.find_element('xpath','.//div[@class = \"numero-incidente\"]').text\n",
    "        fecha = detalle.find_element('xpath','.//div[@class = \"fecha-ingreso\"]').text\n",
    "        actores_ofendidos = detalle.find_element('xpath','.//div[@class = \"lista-actores\"]').text\n",
    "        demandados_procesados = detalle.find_element('xpath','.//div[@class = \"lista-demandados\"]').text\n",
    "        \n",
    "        \n",
    "        detalles.insert_one({\n",
    "            'id': id_detalle,\n",
    "            'numero_proceso': numero_proceso,\n",
    "            'fecha' : fecha,\n",
    "            'actores_ofendidos' : actores_ofendidos,\n",
    "            'demandados_procesados' : demandados_procesados\n",
    "        })"
   ]
  },
  {
   "cell_type": "markdown",
   "id": "68bc0251",
   "metadata": {},
   "source": [
    "### Función para obtener los detalles de un proceso"
   ]
  },
  {
   "cell_type": "code",
   "execution_count": 14,
   "id": "ca42f3a5",
   "metadata": {},
   "outputs": [],
   "source": [
    "# Obtención del detalle\n",
    "# Obtengo el listado de procesos esperando antes 10 segundos para dar tiempo de que se carguen por completo\n",
    "listado_procesos = WebDriverWait(driver, 10).until(EC.presence_of_all_elements_located((By.XPATH,\"//div[@class = 'causa-individual ng-star-inserted']\")))\n",
    "\n",
    "#print(listado_procesos[0].text)\n",
    "def obtencion_detalle(proceso):\n",
    "    \n",
    "        # Se espera unos segundos antes de dar click al boton de detalles\n",
    "        sleep(random.uniform(8.0,10.0))\n",
    "        listado_procesos = WebDriverWait(driver, 10).until(EC.presence_of_all_elements_located((By.XPATH,\"//div[@class = 'causa-individual ng-star-inserted']\")))\n",
    "        \n",
    "        numero_proceso = proceso.find_element(By.XPATH,'.//div[@class=\"numero-proceso\"]').text\n",
    "        boton_proceso = proceso.find_element(By.XPATH,'.//a[@href=\"/movimientos\"]')\n",
    "        boton_proceso.click()\n",
    "        \n",
    "        #listado_detalles = WebDriverWait(driver,10).until(EC.presence_of_all_elements_located((By.XPATH,\"//div[contains(@class = 'cabecera-tabla')]\")))\n",
    "        listado_detalles = WebDriverWait(driver, 10).until(EC.presence_of_all_elements_located((By.XPATH, \"//div[contains(@class, \\\"lista-movimiento-individual\\\")]\")))\n",
    "\n",
    "        # Se envian los detalles a la base de datos\n",
    "        enviar_detalles(numero_proceso,listado_detalles)\n"
   ]
  },
  {
   "cell_type": "markdown",
   "id": "0c7aee85",
   "metadata": {},
   "source": [
    "### Función para hacer el recorrido de una vista"
   ]
  },
  {
   "cell_type": "code",
   "execution_count": 15,
   "id": "0b1700f5",
   "metadata": {},
   "outputs": [],
   "source": [
    "def recorrido_por_vista(num_vista,listado_procesos):\n",
    "    for i in range(len(listado_procesos)):\n",
    "        try:\n",
    "            sleep(random.uniform(3.0,5.0))\n",
    "            listado_procesos = WebDriverWait(driver, 10).until(EC.presence_of_all_elements_located((By.XPATH,\"//div[@class = 'causa-individual ng-star-inserted']\")))\n",
    "            sleep(random.uniform(3.0,5.0))\n",
    "\n",
    "            # Se obtiene el boton de paso\n",
    "            boton_paso = driver.find_element(By.XPATH,\"//button[@aria-label='Página siguiente']\")\n",
    "\n",
    "            # ciclo para dar click en el boton de paso las veces necesarias para llegar a la vista que necesito\n",
    "            for n in range(num_vista-1) : \n",
    "                boton_paso.click()\n",
    "\n",
    "            sleep(random.uniform(3.0,5.0))\n",
    "            listado_procesos = WebDriverWait(driver, 10).until(EC.presence_of_all_elements_located((By.XPATH,\"//div[@class = 'causa-individual ng-star-inserted']\")))\n",
    "            #boton_proceso = listado_procesos[i].find_element(By.XPATH,'.//a[@href=\"/movimientos\"]')\n",
    "            #boton_proceso.click()\n",
    "\n",
    "            # Obtengo los detalles del proceso\n",
    "            # sleep(random.uniform(3.0,5.0))\n",
    "            obtencion_detalle(listado_procesos[i])\n",
    "\n",
    "            sleep(random.uniform(3.0,5.0))\n",
    "            driver.back()\n",
    "            \n",
    "        except StaleElementReferenceException:\n",
    "            sleep(random.uniform(3.0,5.0))\n",
    "            listado_procesos = WebDriverWait(driver, 10).until(EC.presence_of_all_elements_located((By.XPATH,\"//div[@class = 'causa-individual ng-star-inserted']\")))\n",
    "\n"
   ]
  },
  {
   "cell_type": "markdown",
   "id": "cef191c1",
   "metadata": {},
   "source": [
    "### Realizando el recorrido por todas las vistas \n",
    "##### En este recorrido se ingresa a cada uno de los detalles, se \"scrapean\" y se envian a la base de datos en la tabla \"detalles\""
   ]
  },
  {
   "cell_type": "code",
   "execution_count": 16,
   "id": "0f7d41d6",
   "metadata": {},
   "outputs": [
    {
     "ename": "KeyboardInterrupt",
     "evalue": "",
     "output_type": "error",
     "traceback": [
      "\u001b[1;31m---------------------------------------------------------------------------\u001b[0m",
      "\u001b[1;31mKeyboardInterrupt\u001b[0m                         Traceback (most recent call last)",
      "Cell \u001b[1;32mIn[16], line 8\u001b[0m\n\u001b[0;32m      5\u001b[0m \u001b[38;5;28;01mfor\u001b[39;00m i \u001b[38;5;129;01min\u001b[39;00m \u001b[38;5;28mrange\u001b[39m(limit\u001b[38;5;241m-\u001b[39m\u001b[38;5;241m1\u001b[39m):\n\u001b[0;32m      6\u001b[0m    \u001b[38;5;66;03m# sleep(random.uniform(3.0,5.0))\u001b[39;00m\n\u001b[0;32m      7\u001b[0m     listado_procesos \u001b[38;5;241m=\u001b[39m WebDriverWait(driver, \u001b[38;5;241m10\u001b[39m)\u001b[38;5;241m.\u001b[39muntil(EC\u001b[38;5;241m.\u001b[39mpresence_of_all_elements_located((By\u001b[38;5;241m.\u001b[39mXPATH,\u001b[38;5;124m\"\u001b[39m\u001b[38;5;124m//div[@class = \u001b[39m\u001b[38;5;124m'\u001b[39m\u001b[38;5;124mcausa-individual ng-star-inserted\u001b[39m\u001b[38;5;124m'\u001b[39m\u001b[38;5;124m]\u001b[39m\u001b[38;5;124m\"\u001b[39m)))\n\u001b[1;32m----> 8\u001b[0m     \u001b[43mrecorrido_por_vista\u001b[49m\u001b[43m(\u001b[49m\u001b[43mnum_vista\u001b[49m\u001b[43m,\u001b[49m\u001b[43m \u001b[49m\u001b[43mlistado_procesos\u001b[49m\u001b[43m)\u001b[49m\n\u001b[0;32m     10\u001b[0m     num_vista \u001b[38;5;241m+\u001b[39m\u001b[38;5;241m=\u001b[39m \u001b[38;5;241m1\u001b[39m\n",
      "Cell \u001b[1;32mIn[15], line 6\u001b[0m, in \u001b[0;36mrecorrido_por_vista\u001b[1;34m(num_vista, listado_procesos)\u001b[0m\n\u001b[0;32m      4\u001b[0m sleep(random\u001b[38;5;241m.\u001b[39muniform(\u001b[38;5;241m3.0\u001b[39m,\u001b[38;5;241m5.0\u001b[39m))\n\u001b[0;32m      5\u001b[0m listado_procesos \u001b[38;5;241m=\u001b[39m WebDriverWait(driver, \u001b[38;5;241m10\u001b[39m)\u001b[38;5;241m.\u001b[39muntil(EC\u001b[38;5;241m.\u001b[39mpresence_of_all_elements_located((By\u001b[38;5;241m.\u001b[39mXPATH,\u001b[38;5;124m\"\u001b[39m\u001b[38;5;124m//div[@class = \u001b[39m\u001b[38;5;124m'\u001b[39m\u001b[38;5;124mcausa-individual ng-star-inserted\u001b[39m\u001b[38;5;124m'\u001b[39m\u001b[38;5;124m]\u001b[39m\u001b[38;5;124m\"\u001b[39m)))\n\u001b[1;32m----> 6\u001b[0m sleep(random\u001b[38;5;241m.\u001b[39muniform(\u001b[38;5;241m3.0\u001b[39m,\u001b[38;5;241m5.0\u001b[39m))\n\u001b[0;32m      8\u001b[0m \u001b[38;5;66;03m# Se obtiene el boton de paso\u001b[39;00m\n\u001b[0;32m      9\u001b[0m boton_paso \u001b[38;5;241m=\u001b[39m driver\u001b[38;5;241m.\u001b[39mfind_element(By\u001b[38;5;241m.\u001b[39mXPATH,\u001b[38;5;124m\"\u001b[39m\u001b[38;5;124m//button[@aria-label=\u001b[39m\u001b[38;5;124m'\u001b[39m\u001b[38;5;124mPágina siguiente\u001b[39m\u001b[38;5;124m'\u001b[39m\u001b[38;5;124m]\u001b[39m\u001b[38;5;124m\"\u001b[39m)\n",
      "\u001b[1;31mKeyboardInterrupt\u001b[0m: "
     ]
    }
   ],
   "source": [
    "num_vista = 1\n",
    "sleep(random.uniform(3.0,5.0))\n",
    "listado_procesos = WebDriverWait(driver, 10).until(EC.presence_of_all_elements_located((By.XPATH,\"//div[@class = 'causa-individual ng-star-inserted']\")))\n",
    "\n",
    "for i in range(limit-1):\n",
    "   # sleep(random.uniform(3.0,5.0))\n",
    "    listado_procesos = WebDriverWait(driver, 10).until(EC.presence_of_all_elements_located((By.XPATH,\"//div[@class = 'causa-individual ng-star-inserted']\")))\n",
    "    recorrido_por_vista(num_vista, listado_procesos)\n",
    "\n",
    "    num_vista += 1"
   ]
  },
  {
   "cell_type": "markdown",
   "id": "75642884",
   "metadata": {},
   "source": [
    "# Trabajo con Actuaciones Judiciales"
   ]
  },
  {
   "cell_type": "markdown",
   "id": "4fd23db0",
   "metadata": {},
   "source": [
    "### Función para guardar las actuaciones judiciales en la base de datos"
   ]
  },
  {
   "cell_type": "code",
   "execution_count": 17,
   "id": "197a2da5",
   "metadata": {},
   "outputs": [],
   "source": [
    "def enviar_actuaciones(numero_proceso, listado_actuaciones):\n",
    "    for actuacion in listado_actuaciones:\n",
    "        #fecha_ingreso = detalle.find_element('xpath','.//')\n",
    "        titulo_detalle = actuacion.find_element('xpath','.//span[contains(@class, \\\"title\\\")]').text\n",
    "        \n",
    "        actuaciones.insert_one({\n",
    "            'titulo_detalle': titulo_detalle,\n",
    "            'numero_proceso': numero_proceso\n",
    "        })"
   ]
  },
  {
   "cell_type": "markdown",
   "id": "f614386e",
   "metadata": {},
   "source": [
    "### Función para obtener las actuaciones de un proceso"
   ]
  },
  {
   "cell_type": "code",
   "execution_count": 18,
   "id": "1fc3d9dc",
   "metadata": {},
   "outputs": [],
   "source": [
    "# Obtención del detalle\n",
    "# Obtengo el listado de procesos esperando antes 10 segundos para dar tiempo de que se carguen por completo\n",
    "listado_procesos = WebDriverWait(driver, 10).until(EC.presence_of_all_elements_located((By.XPATH,\"//div[@class = 'causa-individual ng-star-inserted']\")))\n",
    "\n",
    "#print(listado_procesos[0].text)\n",
    "def obtencion_actuaciones(numero_proceso,detalle):\n",
    "    #try:\n",
    "        \n",
    "        \n",
    "        #listado_detalles = WebDriverWait(driver, 10).until(EC.presence_of_all_elements_located((By.XPATH, \"//div[contains(@class, \\\"lista-movimiento-individual\\\")]\")))\n",
    "        # Se espera unos segundos antes de dar click al boton de detalles\n",
    "        sleep(random.uniform(8.0,10.0))\n",
    "        \n",
    "        listado_detalles = WebDriverWait(driver, 10).until(EC.presence_of_all_elements_located((By.XPATH, \"//div[contains(@class, \\\"lista-movimiento-individual\\\")]\")))\n",
    "        \n",
    "        boton_detalle_proceso = detalle.find_element(By.XPATH,'.//a[@href=\"/actuaciones\"]')\n",
    "        boton_detalle_proceso.click()\n",
    "        \n",
    "        \n",
    "        \n",
    "       \n",
    "        # Se extraen todos los detalles según la fecha de ingreso\n",
    "        #listado_detalles = WebDriverWait(driver,10).until(EC.presence_of_all_elements_located((By.XPATH,\"//div[contains(@class = 'cabecera-tabla')]\")))\n",
    "        listado_actuaciones = WebDriverWait(driver, 10).until(EC.presence_of_all_elements_located((By.XPATH, \"//span[contains(@class, \\\"mat-content\\\")]\")))\n",
    "\n",
    "        # Se envian los detalles a la base de datos\n",
    "        enviar_actuaciones(numero_proceso,listado_actuaciones)\n",
    "\n",
    "        #sleep(random.uniform(3.0,5.0))\n",
    "        driver.back()\n",
    "        #driver.back()\n",
    "        \n",
    "    #except StaleElementReferenceException:\n",
    "        # Reintentar localizar y obtener detalles del proceso\n",
    "        #sleep(2)  # Puede ajustarse según necesidades\n",
    "        #obtencion_actuaciones(proceso)\n",
    "\n",
    "#obtencion_actuaciones(listado_procesos[0])\n",
    "\n"
   ]
  },
  {
   "cell_type": "markdown",
   "id": "3c3edb79",
   "metadata": {},
   "source": [
    "### Función para hacer el recorrido de una vista"
   ]
  },
  {
   "cell_type": "code",
   "execution_count": 21,
   "id": "d3f134ba",
   "metadata": {},
   "outputs": [],
   "source": [
    "def recorrido_por_vista(num_vista,listado_procesos):\n",
    "    for i in range(len(listado_procesos)):\n",
    "        try:\n",
    "            sleep(random.uniform(3.0,5.0))\n",
    "            listado_procesos = WebDriverWait(driver, 10).until(EC.presence_of_all_elements_located((By.XPATH,\"//div[@class = 'causa-individual ng-star-inserted']\")))\n",
    "            sleep(random.uniform(3.0,5.0))\n",
    "\n",
    "            # Se obtiene el boton de paso\n",
    "            boton_paso = driver.find_element(By.XPATH,\"//button[@aria-label='Página siguiente']\")\n",
    "\n",
    "            # ciclo para dar click en el boton de paso las veces necesarias para llegar a la vista que necesito\n",
    "            for n in range(num_vista-1) : \n",
    "                boton_paso.click()\n",
    "\n",
    "            sleep(random.uniform(3.0,5.0))\n",
    "            listado_procesos = WebDriverWait(driver, 10).until(EC.presence_of_all_elements_located((By.XPATH,\"//div[@class = 'causa-individual ng-star-inserted']\")))\n",
    "            #boton_proceso = listado_procesos[i].find_element(By.XPATH,'.//a[@href=\"/movimientos\"]')\n",
    "            #boton_proceso.click()\n",
    "\n",
    "            # Obtengo los detalles del proceso\n",
    "            # sleep(random.uniform(3.0,5.0))\n",
    "            \n",
    "            \n",
    "            # Se espera unos segundos antes de dar click al boton de detalles\n",
    "            sleep(random.uniform(8.0,10.0))\n",
    "            #listado_procesos = WebDriverWait(driver, 10).until(EC.presence_of_all_elements_located((By.XPATH,\"//div[@class = 'causa-individual ng-star-inserted']\")))\n",
    "\n",
    "            numero_proceso = listado_procesos[i].find_element(By.XPATH,'.//div[@class=\"numero-proceso\"]').text\n",
    "            boton_proceso = listado_procesos[i].find_element(By.XPATH,'.//a[@href=\"/movimientos\"]')\n",
    "            boton_proceso.click()\n",
    "            \n",
    "            ###   OBTENGO EL LISTADO DE DETALLES DE UN PROCESO#####\n",
    "            listado_detalles = WebDriverWait(driver, 10).until(EC.presence_of_all_elements_located((By.XPATH, \"//div[contains(@class, \\\"lista-movimiento-individual\\\")]\")))\n",
    "            for j in range(len(listado_detalles)):\n",
    "                listado_detalles = WebDriverWait(driver, 10).until(EC.presence_of_all_elements_located((By.XPATH, \"//div[contains(@class, \\\"lista-movimiento-individual\\\")]\")))\n",
    "                obtencion_actuaciones(numero_proceso,listado_detalles[j])\n",
    "                \n",
    "\n",
    "            sleep(random.uniform(3.0,5.0))\n",
    "            driver.back()\n",
    "            #driver.back()\n",
    "            \n",
    "        except StaleElementReferenceException:\n",
    "            sleep(random.uniform(3.0,5.0))\n",
    "            listado_procesos = WebDriverWait(driver, 10).until(EC.presence_of_all_elements_located((By.XPATH,\"//div[@class = 'causa-individual ng-star-inserted']\")))\n"
   ]
  },
  {
   "cell_type": "markdown",
   "id": "cb795e0c",
   "metadata": {},
   "source": [
    "### Realizando el recorrido por todas las vistas\n",
    "#### En este recorrido se ingresa a cada una de las actuaciones, se \"scrapean\" y se envian a la base de datos en la tabla \"actuaciones\""
   ]
  },
  {
   "cell_type": "code",
   "execution_count": 22,
   "id": "bd880e42",
   "metadata": {
    "scrolled": true
   },
   "outputs": [
    {
     "ename": "KeyboardInterrupt",
     "evalue": "",
     "output_type": "error",
     "traceback": [
      "\u001b[1;31m---------------------------------------------------------------------------\u001b[0m",
      "\u001b[1;31mKeyboardInterrupt\u001b[0m                         Traceback (most recent call last)",
      "Cell \u001b[1;32mIn[22], line 7\u001b[0m\n\u001b[0;32m      5\u001b[0m \u001b[38;5;28;01mfor\u001b[39;00m i \u001b[38;5;129;01min\u001b[39;00m \u001b[38;5;28mrange\u001b[39m(limit\u001b[38;5;241m-\u001b[39m\u001b[38;5;241m1\u001b[39m):\n\u001b[0;32m      6\u001b[0m     listado_procesos \u001b[38;5;241m=\u001b[39m WebDriverWait(driver, \u001b[38;5;241m10\u001b[39m)\u001b[38;5;241m.\u001b[39muntil(EC\u001b[38;5;241m.\u001b[39mpresence_of_all_elements_located((By\u001b[38;5;241m.\u001b[39mXPATH,\u001b[38;5;124m\"\u001b[39m\u001b[38;5;124m//div[@class = \u001b[39m\u001b[38;5;124m'\u001b[39m\u001b[38;5;124mcausa-individual ng-star-inserted\u001b[39m\u001b[38;5;124m'\u001b[39m\u001b[38;5;124m]\u001b[39m\u001b[38;5;124m\"\u001b[39m)))\n\u001b[1;32m----> 7\u001b[0m     \u001b[43mrecorrido_por_vista\u001b[49m\u001b[43m(\u001b[49m\u001b[43mnum_vista\u001b[49m\u001b[43m,\u001b[49m\u001b[43m \u001b[49m\u001b[43mlistado_procesos\u001b[49m\u001b[43m)\u001b[49m\n\u001b[0;32m      9\u001b[0m     num_vista \u001b[38;5;241m+\u001b[39m\u001b[38;5;241m=\u001b[39m \u001b[38;5;241m1\u001b[39m\n",
      "Cell \u001b[1;32mIn[21], line 36\u001b[0m, in \u001b[0;36mrecorrido_por_vista\u001b[1;34m(num_vista, listado_procesos)\u001b[0m\n\u001b[0;32m     34\u001b[0m \u001b[38;5;28;01mfor\u001b[39;00m j \u001b[38;5;129;01min\u001b[39;00m \u001b[38;5;28mrange\u001b[39m(\u001b[38;5;28mlen\u001b[39m(listado_detalles)):\n\u001b[0;32m     35\u001b[0m     listado_detalles \u001b[38;5;241m=\u001b[39m WebDriverWait(driver, \u001b[38;5;241m10\u001b[39m)\u001b[38;5;241m.\u001b[39muntil(EC\u001b[38;5;241m.\u001b[39mpresence_of_all_elements_located((By\u001b[38;5;241m.\u001b[39mXPATH, \u001b[38;5;124m\"\u001b[39m\u001b[38;5;124m//div[contains(@class, \u001b[39m\u001b[38;5;130;01m\\\"\u001b[39;00m\u001b[38;5;124mlista-movimiento-individual\u001b[39m\u001b[38;5;130;01m\\\"\u001b[39;00m\u001b[38;5;124m)]\u001b[39m\u001b[38;5;124m\"\u001b[39m)))\n\u001b[1;32m---> 36\u001b[0m     \u001b[43mobtencion_actuaciones\u001b[49m\u001b[43m(\u001b[49m\u001b[43mnumero_proceso\u001b[49m\u001b[43m,\u001b[49m\u001b[43mlistado_detalles\u001b[49m\u001b[43m[\u001b[49m\u001b[43mj\u001b[49m\u001b[43m]\u001b[49m\u001b[43m)\u001b[49m\n\u001b[0;32m     39\u001b[0m sleep(random\u001b[38;5;241m.\u001b[39muniform(\u001b[38;5;241m3.0\u001b[39m,\u001b[38;5;241m5.0\u001b[39m))\n\u001b[0;32m     40\u001b[0m driver\u001b[38;5;241m.\u001b[39mback()\n",
      "Cell \u001b[1;32mIn[18], line 12\u001b[0m, in \u001b[0;36mobtencion_actuaciones\u001b[1;34m(numero_proceso, detalle)\u001b[0m\n\u001b[0;32m      6\u001b[0m \u001b[38;5;28;01mdef\u001b[39;00m \u001b[38;5;21mobtencion_actuaciones\u001b[39m(numero_proceso,detalle):\n\u001b[0;32m      7\u001b[0m     \u001b[38;5;66;03m#try:\u001b[39;00m\n\u001b[0;32m      8\u001b[0m         \n\u001b[0;32m      9\u001b[0m         \n\u001b[0;32m     10\u001b[0m         \u001b[38;5;66;03m#listado_detalles = WebDriverWait(driver, 10).until(EC.presence_of_all_elements_located((By.XPATH, \"//div[contains(@class, \\\"lista-movimiento-individual\\\")]\")))\u001b[39;00m\n\u001b[0;32m     11\u001b[0m         \u001b[38;5;66;03m# Se espera unos segundos antes de dar click al boton de detalles\u001b[39;00m\n\u001b[1;32m---> 12\u001b[0m         sleep(random\u001b[38;5;241m.\u001b[39muniform(\u001b[38;5;241m8.0\u001b[39m,\u001b[38;5;241m10.0\u001b[39m))\n\u001b[0;32m     14\u001b[0m         listado_detalles \u001b[38;5;241m=\u001b[39m WebDriverWait(driver, \u001b[38;5;241m10\u001b[39m)\u001b[38;5;241m.\u001b[39muntil(EC\u001b[38;5;241m.\u001b[39mpresence_of_all_elements_located((By\u001b[38;5;241m.\u001b[39mXPATH, \u001b[38;5;124m\"\u001b[39m\u001b[38;5;124m//div[contains(@class, \u001b[39m\u001b[38;5;130;01m\\\"\u001b[39;00m\u001b[38;5;124mlista-movimiento-individual\u001b[39m\u001b[38;5;130;01m\\\"\u001b[39;00m\u001b[38;5;124m)]\u001b[39m\u001b[38;5;124m\"\u001b[39m)))\n\u001b[0;32m     16\u001b[0m         boton_detalle_proceso \u001b[38;5;241m=\u001b[39m detalle\u001b[38;5;241m.\u001b[39mfind_element(By\u001b[38;5;241m.\u001b[39mXPATH,\u001b[38;5;124m'\u001b[39m\u001b[38;5;124m.//a[@href=\u001b[39m\u001b[38;5;124m\"\u001b[39m\u001b[38;5;124m/actuaciones\u001b[39m\u001b[38;5;124m\"\u001b[39m\u001b[38;5;124m]\u001b[39m\u001b[38;5;124m'\u001b[39m)\n",
      "\u001b[1;31mKeyboardInterrupt\u001b[0m: "
     ]
    }
   ],
   "source": [
    "num_vista = 1\n",
    "sleep(random.uniform(3.0,5.0))\n",
    "listado_procesos = WebDriverWait(driver, 10).until(EC.presence_of_all_elements_located((By.XPATH,\"//div[@class = 'causa-individual ng-star-inserted']\")))\n",
    "\n",
    "for i in range(limit-1):\n",
    "    listado_procesos = WebDriverWait(driver, 10).until(EC.presence_of_all_elements_located((By.XPATH,\"//div[@class = 'causa-individual ng-star-inserted']\")))\n",
    "    recorrido_por_vista(num_vista, listado_procesos)\n",
    "    \n",
    "    num_vista += 1"
   ]
  },
  {
   "cell_type": "markdown",
   "id": "d1e91c8b",
   "metadata": {},
   "source": [
    "# PRUEBAS"
   ]
  },
  {
   "cell_type": "code",
   "execution_count": 45,
   "id": "4bc12bb7",
   "metadata": {},
   "outputs": [],
   "source": [
    "opts = Options()\n",
    "opts.add_argument(\"user-agent=Mozilla/5.0 (Macintosh; Intel Mac OS X 10_15_7) AppleWebKit/537.36 (KHTML, like Gecko) Chrome/113.0.0.0 Safari/537.36\")\n",
    "\n",
    "# Conexión con la página web a \"scrapear\"\n",
    "driver = webdriver.Chrome(service = Service(ChromeDriverManager().install()), options=opts)\n",
    "driver.get('https://procesosjudiciales.funcionjudicial.gob.ec/busqueda-filtros')\n"
   ]
  },
  {
   "cell_type": "code",
   "execution_count": 58,
   "id": "7d6d2f4a",
   "metadata": {},
   "outputs": [],
   "source": [
    "# Se obtiene el número limite para realizar los cambios de página\n",
    "page_label = driver.find_element(By.XPATH, \"//div[@class = 'mat-mdc-paginator-range-label']\")\n",
    "text = page_label.text\n",
    "\n",
    "# Se utiliza la funcion split para obtener un array por palabra del texto obtenido y luego se obtiene el ultimo registro\n",
    "parts = text.split()\n",
    "limit = int(parts[len(parts) - 1])"
   ]
  },
  {
   "cell_type": "markdown",
   "id": "41adf017",
   "metadata": {},
   "source": [
    "### Función para obtener los detalles del proceso"
   ]
  },
  {
   "cell_type": "code",
   "execution_count": 59,
   "id": "db282f70",
   "metadata": {},
   "outputs": [],
   "source": [
    "# Obtención del detalle\n",
    "# Obtengo el listado de procesos esperando antes 10 segundos para dar tiempo de que se carguen por completo\n",
    "listado_procesos = WebDriverWait(driver, 10).until(EC.presence_of_all_elements_located((By.XPATH,\"//div[@class = 'causa-individual ng-star-inserted']\")))\n",
    "\n",
    "#print(listado_procesos[0].text)\n",
    "def obtencion_detalle(proceso):\n",
    "    \n",
    "        # Se espera unos segundos antes de dar click al boton de detalles\n",
    "        sleep(random.uniform(8.0,10.0))\n",
    "        listado_procesos = WebDriverWait(driver, 10).until(EC.presence_of_all_elements_located((By.XPATH,\"//div[@class = 'causa-individual ng-star-inserted']\")))\n",
    "        \n",
    "        numero_proceso = proceso.find_element(By.XPATH,'.//div[@class=\"numero-proceso\"]').text\n",
    "        boton_proceso = proceso.find_element(By.XPATH,'.//a[@href=\"/movimientos\"]')\n",
    "        boton_proceso.click()\n",
    "        \n",
    "        #listado_detalles = WebDriverWait(driver,10).until(EC.presence_of_all_elements_located((By.XPATH,\"//div[contains(@class = 'cabecera-tabla')]\")))\n",
    "        listado_detalles = WebDriverWait(driver, 10).until(EC.presence_of_all_elements_located((By.XPATH, \"//div[contains(@class, \\\"lista-movimiento-individual\\\")]\")))\n",
    "\n",
    "        # Se envian los detalles a la base de datos\n",
    "        enviar_detalles(numero_proceso,listado_detalles)"
   ]
  },
  {
   "cell_type": "code",
   "execution_count": null,
   "id": "13666ec6",
   "metadata": {},
   "outputs": [],
   "source": []
  }
 ],
 "metadata": {
  "kernelspec": {
   "display_name": "Python 3 (ipykernel)",
   "language": "python",
   "name": "python3"
  },
  "language_info": {
   "codemirror_mode": {
    "name": "ipython",
    "version": 3
   },
   "file_extension": ".py",
   "mimetype": "text/x-python",
   "name": "python",
   "nbconvert_exporter": "python",
   "pygments_lexer": "ipython3",
   "version": "3.11.5"
  }
 },
 "nbformat": 4,
 "nbformat_minor": 5
}
